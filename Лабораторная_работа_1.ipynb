{
  "nbformat": 4,
  "nbformat_minor": 0,
  "metadata": {
    "colab": {
      "provenance": [],
      "include_colab_link": true
    },
    "kernelspec": {
      "name": "python3",
      "display_name": "Python 3"
    },
    "language_info": {
      "name": "python"
    }
  },
  "cells": [
    {
      "cell_type": "markdown",
      "metadata": {
        "id": "view-in-github",
        "colab_type": "text"
      },
      "source": [
        "<a href=\"https://colab.research.google.com/github/olyich/DigitalLiteracy/blob/%D0%9C%D0%BE%D0%B4%D1%83%D0%BB%D1%8C_3/%D0%9B%D0%B0%D0%B1%D0%BE%D1%80%D0%B0%D1%82%D0%BE%D1%80%D0%BD%D0%B0%D1%8F_%D1%80%D0%B0%D0%B1%D0%BE%D1%82%D0%B0_1.ipynb\" target=\"_parent\"><img src=\"https://colab.research.google.com/assets/colab-badge.svg\" alt=\"Open In Colab\"/></a>"
      ]
    },
    {
      "cell_type": "markdown",
      "source": [
        "# Лабораторная работа по теме: \"Введение в анализ данных. Операции над векторами и матрицами в NumPy\""
      ],
      "metadata": {
        "id": "vr3PzzdntpPb"
      }
    },
    {
      "cell_type": "code",
      "source": [
        "import numpy as np"
      ],
      "metadata": {
        "id": "RkrkxAzot4xl"
      },
      "execution_count": null,
      "outputs": []
    },
    {
      "cell_type": "markdown",
      "source": [
        "### Задание 1"
      ],
      "metadata": {
        "id": "5QjKGbeztz9i"
      }
    },
    {
      "cell_type": "markdown",
      "source": [
        "Создать 12x12 единичную матрицу (с единицами по диагонали)"
      ],
      "metadata": {
        "id": "itspkMvKuCj4"
      }
    },
    {
      "cell_type": "code",
      "source": [
        "import numpy as np\n",
        "\n",
        "# Создаем единичную матрицу 12x12\n",
        "identity_matrix = np.eye(12)\n",
        "\n",
        "print(\"array\",identity_matrix)"
      ],
      "metadata": {
        "colab": {
          "base_uri": "https://localhost:8080/"
        },
        "id": "An3oWlmft1ne",
        "outputId": "4a882ada-cebc-48df-b028-6c4732ab0b7a"
      },
      "execution_count": 3,
      "outputs": [
        {
          "output_type": "stream",
          "name": "stdout",
          "text": [
            "array [[1. 0. 0. 0. 0. 0. 0. 0. 0. 0. 0. 0.]\n",
            " [0. 1. 0. 0. 0. 0. 0. 0. 0. 0. 0. 0.]\n",
            " [0. 0. 1. 0. 0. 0. 0. 0. 0. 0. 0. 0.]\n",
            " [0. 0. 0. 1. 0. 0. 0. 0. 0. 0. 0. 0.]\n",
            " [0. 0. 0. 0. 1. 0. 0. 0. 0. 0. 0. 0.]\n",
            " [0. 0. 0. 0. 0. 1. 0. 0. 0. 0. 0. 0.]\n",
            " [0. 0. 0. 0. 0. 0. 1. 0. 0. 0. 0. 0.]\n",
            " [0. 0. 0. 0. 0. 0. 0. 1. 0. 0. 0. 0.]\n",
            " [0. 0. 0. 0. 0. 0. 0. 0. 1. 0. 0. 0.]\n",
            " [0. 0. 0. 0. 0. 0. 0. 0. 0. 1. 0. 0.]\n",
            " [0. 0. 0. 0. 0. 0. 0. 0. 0. 0. 1. 0.]\n",
            " [0. 0. 0. 0. 0. 0. 0. 0. 0. 0. 0. 1.]]\n"
          ]
        }
      ]
    },
    {
      "cell_type": "markdown",
      "source": [
        "### Задание 2 *"
      ],
      "metadata": {
        "id": "zgtjz7y7uY1H"
      }
    },
    {
      "cell_type": "markdown",
      "source": [
        "Создать 9x9 матрицу и заполнить её в шахматном порядке"
      ],
      "metadata": {
        "id": "S47Cmf05ye5a"
      }
    },
    {
      "cell_type": "markdown",
      "source": [],
      "metadata": {
        "id": "LgeWREN_t8RY"
      }
    },
    {
      "cell_type": "code",
      "source": [
        "import numpy as np\n",
        "\n",
        "chessboard = np.zeros((9, 9), dtype=int)\n",
        "chessboard[1::2, ::2] = 1\n",
        "chessboard[::2, 1::2] = 1\n",
        "\n",
        "print(chessboard)"
      ],
      "metadata": {
        "colab": {
          "base_uri": "https://localhost:8080/"
        },
        "id": "FRZ2AujOyyKe",
        "outputId": "00fdd137-1bd0-4a4e-9d18-4324e9d93d22"
      },
      "execution_count": 4,
      "outputs": [
        {
          "output_type": "stream",
          "name": "stdout",
          "text": [
            "[[0 1 0 1 0 1 0 1 0]\n",
            " [1 0 1 0 1 0 1 0 1]\n",
            " [0 1 0 1 0 1 0 1 0]\n",
            " [1 0 1 0 1 0 1 0 1]\n",
            " [0 1 0 1 0 1 0 1 0]\n",
            " [1 0 1 0 1 0 1 0 1]\n",
            " [0 1 0 1 0 1 0 1 0]\n",
            " [1 0 1 0 1 0 1 0 1]\n",
            " [0 1 0 1 0 1 0 1 0]]\n"
          ]
        }
      ]
    },
    {
      "cell_type": "markdown",
      "source": [
        "### Задание 3"
      ],
      "metadata": {
        "id": "V910eQBazBw-"
      }
    },
    {
      "cell_type": "markdown",
      "source": [
        "Отсортировать произвольный вектор в порядке возрастания"
      ],
      "metadata": {
        "id": "MrD-Vg_8zTcC"
      }
    },
    {
      "cell_type": "code",
      "source": [
        "import numpy as np\n",
        "\n",
        "np.random.seed(42)\n",
        "\n",
        "vector = np.random.random(10)\n",
        "\n",
        "print(\"Исходный вектор:\", vector)\n",
        "\n",
        "sorted_vector = np.sort(vector)\n",
        "\n",
        "print(\"\\nОтсортированный вектор:\", sorted_vector)"
      ],
      "metadata": {
        "colab": {
          "base_uri": "https://localhost:8080/"
        },
        "id": "hobc_yIUzc2Y",
        "outputId": "a108e42b-206c-4b65-c6d7-7ab66702973d"
      },
      "execution_count": 6,
      "outputs": [
        {
          "output_type": "stream",
          "name": "stdout",
          "text": [
            "Исходный вектор: [0.37454012 0.95071431 0.73199394 0.59865848 0.15601864 0.15599452\n",
            " 0.05808361 0.86617615 0.60111501 0.70807258]\n",
            "\n",
            "Отсортированный вектор: [0.05808361 0.15599452 0.15601864 0.37454012 0.59865848 0.60111501\n",
            " 0.70807258 0.73199394 0.86617615 0.95071431]\n"
          ]
        }
      ]
    },
    {
      "cell_type": "markdown",
      "source": [
        "### Задание 4"
      ],
      "metadata": {
        "id": "CcyFdU0QzpFm"
      }
    },
    {
      "cell_type": "markdown",
      "source": [
        "Определить есть ли в произвольном двумерном массиве из целых чисел строки, в которых все значения равны 4."
      ],
      "metadata": {
        "id": "yjVzk0XMzzX0"
      }
    },
    {
      "cell_type": "code",
      "source": [
        "import numpy as np\n",
        "\n",
        "np.random.seed(42)\n",
        "fourth_array = np.random.randint(3, 5, (8, 3))\n",
        "\n",
        "result = np.any(np.all(fourth_array == 4, axis=1))\n",
        "\n",
        "print(result)"
      ],
      "metadata": {
        "colab": {
          "base_uri": "https://localhost:8080/"
        },
        "id": "E6kZxQvT0fp6",
        "outputId": "cb8a88c4-8da4-4bc9-e6af-174a7efde401"
      },
      "execution_count": 9,
      "outputs": [
        {
          "output_type": "stream",
          "name": "stdout",
          "text": [
            "False\n"
          ]
        }
      ]
    },
    {
      "cell_type": "markdown",
      "source": [
        "### Задание 5"
      ],
      "metadata": {
        "id": "P4jYtxo41foh"
      }
    },
    {
      "cell_type": "markdown",
      "source": [
        "Создайте массив из 6 элементов, 5 из которых равны 0, последний элемент должен быть равен 1"
      ],
      "metadata": {
        "id": "S_rvQzi31tAr"
      }
    },
    {
      "cell_type": "code",
      "source": [
        "import numpy as np\n",
        "\n",
        "arr = np.zeros(6)\n",
        "arr[-1] = 1\n",
        "print(arr)"
      ],
      "metadata": {
        "colab": {
          "base_uri": "https://localhost:8080/"
        },
        "id": "vZT1HXr52b7R",
        "outputId": "d2009bc5-d462-481b-f370-9af183bc9f5e"
      },
      "execution_count": 10,
      "outputs": [
        {
          "output_type": "stream",
          "name": "stdout",
          "text": [
            "[0. 0. 0. 0. 0. 1.]\n"
          ]
        }
      ]
    },
    {
      "cell_type": "markdown",
      "source": [
        "### Задание 6"
      ],
      "metadata": {
        "id": "TL-1Heta2skE"
      }
    },
    {
      "cell_type": "markdown",
      "source": [
        "Укажите индекс 9 элемента в массиве 2х3х2"
      ],
      "metadata": {
        "id": "cqnd5VUV24zl"
      }
    },
    {
      "cell_type": "code",
      "source": [
        "import numpy as np\n",
        "\n",
        "arr = np.arange(12).reshape(2, 3, 2)\n",
        "\n",
        "index = np.unravel_index(8, (2, 3, 2))\n",
        "\n",
        "index_normalized = tuple(map(int, index))\n",
        "\n",
        "print(index_normalized)"
      ],
      "metadata": {
        "id": "pZJGru5PxT-D",
        "outputId": "86537edc-498c-402a-b659-463779445a43",
        "colab": {
          "base_uri": "https://localhost:8080/"
        }
      },
      "execution_count": 14,
      "outputs": [
        {
          "output_type": "stream",
          "name": "stdout",
          "text": [
            "(1, 1, 0)\n"
          ]
        }
      ]
    }
  ]
}